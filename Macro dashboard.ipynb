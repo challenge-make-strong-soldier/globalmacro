{
 "cells": [
  {
   "cell_type": "markdown",
   "metadata": {},
   "source": [
    "## Global Macro Dashboard"
   ]
  },
  {
   "cell_type": "markdown",
   "metadata": {},
   "source": [
    "An overview of some important indicators of the global economy's health."
   ]
  },
  {
   "cell_type": "markdown",
   "metadata": {},
   "source": [
    "### Import libraries"
   ]
  },
  {
   "cell_type": "code",
   "execution_count": 1,
   "metadata": {},
   "outputs": [],
   "source": [
    "import pandas as pd\n",
    "import numpy as np\n",
    "import matplotlib.pyplot as plt\n",
    "\n",
    "import quandl\n",
    "\n",
    "import pandas_datareader.data as web\n",
    "import datetime\n",
    "import missingno as msno\n",
    "\n",
    "%matplotlib inline\n",
    "plt.close('all')"
   ]
  },
  {
   "cell_type": "markdown",
   "metadata": {},
   "source": [
    "### US Treasury bond yields"
   ]
  },
  {
   "cell_type": "markdown",
   "metadata": {},
   "source": [
    "#### Load data US treasury bond yields"
   ]
  },
  {
   "cell_type": "code",
   "execution_count": null,
   "metadata": {},
   "outputs": [],
   "source": [
    "# load from Quandl API\n",
    "US_treasury_yields = quandl.get(\"USTREASURY/YIELD\", authtoken=\"e4FyZJfz6ukboUWG4Pm_\")\n",
    "# save a copy locally as a CSV\n",
    "US_treasury_yields.to_csv(\"US_treasury_yields.csv\")"
   ]
  },
  {
   "cell_type": "markdown",
   "metadata": {},
   "source": [
    "#### Load US data on GDP, inflation etc from FRED"
   ]
  },
  {
   "cell_type": "code",
   "execution_count": null,
   "metadata": {},
   "outputs": [],
   "source": [
    "US_GDP = web.DataReader('GDP', 'fred')\n",
    "US_inflation = web.DataReader(['CPIAUCSL', 'CPILFESL'], 'fred')\n",
    "\n",
    "# FRED also has Treasury yield data available, but there seem to be more missing\n",
    "# values compared to quandl, so using Quandl as above\n",
    "# UST_3m_FRED = web.DataReader(['T10Y3MM'], 'fred', start, end)\n",
    "# UST_2y_FRED = web.DataReader(['T10Y2Y'], 'fred', start, end)"
   ]
  },
  {
   "cell_type": "code",
   "execution_count": null,
   "metadata": {},
   "outputs": [],
   "source": [
    "US_treasury_yields.tail()"
   ]
  },
  {
   "cell_type": "markdown",
   "metadata": {},
   "source": [
    "#### Checking for missing values"
   ]
  },
  {
   "cell_type": "code",
   "execution_count": null,
   "metadata": {},
   "outputs": [],
   "source": [
    "#msno.bar(US_treasury_yields.sample(7295), figsize=(8, 4))\n",
    "#plt.show()"
   ]
  },
  {
   "cell_type": "markdown",
   "metadata": {},
   "source": [
    "#### Visualising US Treasury yields for different tenors "
   ]
  },
  {
   "cell_type": "code",
   "execution_count": null,
   "metadata": {},
   "outputs": [],
   "source": [
    "# set now to current time and date\n",
    "now = datetime.datetime.now()\n",
    "# set a start date in the past\n",
    "start = datetime.datetime(2013, 1, 1)\n",
    "# other start/end options: \n",
    "# start = '20120101'\n",
    "# end = ''\n",
    "today = datetime.datetime(now.year, now.month, now.day)"
   ]
  },
  {
   "cell_type": "code",
   "execution_count": null,
   "metadata": {},
   "outputs": [],
   "source": [
    "US_treasury_yields.loc[start:].plot(subplots=True, layout=(4,3), figsize=(16, 10))\n",
    "plt.show()"
   ]
  },
  {
   "cell_type": "markdown",
   "metadata": {},
   "source": [
    "#### US Treasury yield curves "
   ]
  },
  {
   "cell_type": "code",
   "execution_count": null,
   "metadata": {},
   "outputs": [],
   "source": [
    "TSY3m2y =  US_treasury_yields['2 YR'] - US_treasury_yields['3 MO']\n",
    "TSY2y10y = US_treasury_yields['10 YR'] - US_treasury_yields['2 YR']"
   ]
  },
  {
   "cell_type": "code",
   "execution_count": null,
   "metadata": {},
   "outputs": [],
   "source": [
    "TSY3m2y.loc[start:].plot(figsize=(14, 6))\n",
    "plt.show()"
   ]
  },
  {
   "cell_type": "code",
   "execution_count": null,
   "metadata": {},
   "outputs": [],
   "source": [
    "TSY2y10y.loc[start:].plot(figsize=(14, 6))\n",
    "plt.show()"
   ]
  },
  {
   "cell_type": "markdown",
   "metadata": {},
   "source": [
    "## Germany bond yields and curves"
   ]
  },
  {
   "cell_type": "markdown",
   "metadata": {},
   "source": [
    "### Data sources"
   ]
  },
  {
   "cell_type": "code",
   "execution_count": null,
   "metadata": {},
   "outputs": [],
   "source": [
    "# creates list of bond tenors\n",
    "tenor = ['6m', '1y', '2y', '5y','10y', '20y', '30y']\n",
    "\n",
    "# creates dictionary where keys represent various bond tenors and the value is the URL of corresponding dataset\n",
    "DE = {\"DE6m_input\": \"https://www.bundesbank.de/statistic-rmi/StatisticDownload?tsId=BBK01.WT3210&mode=its&its_fileFormat=csv&its_csvFormat=de&its_currency=default&its_dateFormat=default&its_from=&its_to=\",\n",
    "      \"DE1y_input\": \"https://www.bundesbank.de/statistic-rmi/StatisticDownload?tsId=BBK01.WT3211&mode=its&its_fileFormat=csv&its_csvFormat=de&its_currency=default&its_dateFormat=default&its_from=&its_to=\",\n",
    "      \"DE2y_input\": \"https://www.bundesbank.de/statistic-rmi/StatisticDownload?tsId=BBK01.WT3213&mode=its&its_fileFormat=csv&its_csvFormat=de&its_currency=default&its_dateFormat=default&its_from=&its_to=\",\n",
    "      \"DE5y_input\": \"https://www.bundesbank.de/statistic-rmi/StatisticDownload?tsId=BBK01.WT3219&mode=its&its_fileFormat=csv&its_csvFormat=de&its_currency=default&its_dateFormat=default&its_from=&its_to=\",\n",
    "      \"DE10y_input\": \"https://www.bundesbank.de/statistic-rmi/StatisticDownload?tsId=BBK01.WT3229&mode=its&its_fileFormat=csv&its_csvFormat=de&its_currency=default&its_dateFormat=default&its_from=&its_to=\",\n",
    "      \"DE20y_input\": \"https://www.bundesbank.de/statistic-rmi/StatisticDownload?tsId=BBK01.WT3449&mode=its&its_fileFormat=csv&its_csvFormat=de&its_currency=default&its_dateFormat=default&its_from=&its_to=\",\n",
    "      \"DE30y_input\": \"https://www.bundesbank.de/statistic-rmi/StatisticDownload?tsId=BBK01.WT3500&mode=its&its_fileFormat=csv&its_csvFormat=de&its_currency=default&its_dateFormat=default&its_from=&its_to=\"}"
   ]
  },
  {
   "cell_type": "markdown",
   "metadata": {},
   "source": [
    "### Functions for loading, cleaning and concatenating data"
   ]
  },
  {
   "cell_type": "code",
   "execution_count": null,
   "metadata": {},
   "outputs": [],
   "source": [
    "def instrument_names(tenors):\n",
    "    \"\"\"\n",
    "    creates variable names for each instrument, e.g. \"DE2y\" for a\n",
    "    2yr German bond and also input variables that will be used in\n",
    "    subsequent cleaning functions, e.g. DE2y_input\n",
    "    \"\"\"\n",
    "    input_names = [0] * len(tenors)\n",
    "    for i in tenors:\n",
    "        index = tenors.index(i)\n",
    "        if index < len(tenors):\n",
    "            tenors[index] = 'DE'+ i\n",
    "            input_names[index] = tenors[index] + '_input'\n",
    "    return tenors, input_names\n",
    "\n",
    "def bunds_clean(URL, tenor):\n",
    "    \"\"\"\n",
    "    Loads and transforms very poorly formatted CSV files with data for each\n",
    "    bond tenor from German Bundesbank and returns cleaned pandas dataframe\n",
    "    \"\"\"\n",
    "    DF = pd.read_csv(URL, sep=';')   \n",
    "    assert type(tenor) == str, \"Tenor needs to be a string\"        \n",
    "    # remove rows without relevant data\n",
    "    DF = DF[4:-1]\n",
    "    # rename columns to give meaningful name\n",
    "    new_columns = DF.columns.values\n",
    "    new_columns[0] = 'DATE'\n",
    "    new_columns[1] = tenor \n",
    "    DF.columns = new_columns   \n",
    "    # assign last column to variable 'dropcolumn'\n",
    "    dropcolumn = DF.columns[2]\n",
    "    # use dropcolumn to remove rows that have missing values (indicated by string in German instead of NaN)\n",
    "    DF = DF[DF[dropcolumn] != 'Kein Wert vorhanden']\n",
    "    # now remove last column \n",
    "    DF = DF.drop([dropcolumn], axis=1)\n",
    "    # reset dataframe index to 0 - was not the case because we removed rows earlier\n",
    "    DF.reset_index(drop=True, inplace=True)    \n",
    "    # replace German comma (,) with dot in RATE column\n",
    "    DF[tenor] = [x.replace(',', '.') for x in DF[tenor]]\n",
    "    # convert RATE column values from string to float\n",
    "    DF[tenor] = DF[tenor].astype('float')\n",
    "    # convert DATE column values from string to datetime\n",
    "    DF['DATE'] = pd.to_datetime(DF['DATE'])\n",
    "    # replace dataframe index column with DATE column\n",
    "    DF.set_index(['DATE'], drop=True, inplace=True)\n",
    "    return DF\n",
    "\n",
    "def clean_and_join(input_name, tenor):\n",
    "    \"\"\"\n",
    "    Calls bunds_clean function for each input file and concatenates \n",
    "    cleaned output into one pandas dataframe, which is returned\n",
    "    \"\"\"\n",
    "    combined = pd.DataFrame() \n",
    "    for i in range(len(tenor)):\n",
    "        result = bunds_clean(DE[input_name[i]], tenor[i])\n",
    "        combined = pd.concat([combined, result], axis=1)\n",
    "    return combined"
   ]
  },
  {
   "cell_type": "code",
   "execution_count": null,
   "metadata": {},
   "outputs": [],
   "source": [
    "results = instrument_names(tenor[:])\n",
    "instruments = results[0]\n",
    "input_name = results[1]\n",
    "\n",
    "DE_bond_yields = clean_and_join(input_name, tenor)\n",
    "DE_bond_yields.to_csv(\"DE_bond_yields.csv\")"
   ]
  },
  {
   "cell_type": "code",
   "execution_count": null,
   "metadata": {},
   "outputs": [],
   "source": [
    "DE_bond_yields.tail()"
   ]
  },
  {
   "cell_type": "markdown",
   "metadata": {},
   "source": [
    "#### Checking for missing data"
   ]
  },
  {
   "cell_type": "code",
   "execution_count": null,
   "metadata": {},
   "outputs": [],
   "source": [
    "#msno.bar(DE_bond_yields.sample(5473), figsize=(8, 3))\n",
    "#plt.show()"
   ]
  },
  {
   "cell_type": "markdown",
   "metadata": {},
   "source": [
    "#### Visualising German bond yields for different tenors "
   ]
  },
  {
   "cell_type": "code",
   "execution_count": null,
   "metadata": {},
   "outputs": [],
   "source": [
    "start = '20130101'\n",
    "end = today\n",
    "DE_bond_yields.loc[start:].plot(subplots=True, layout=(4,2), figsize=(16, 10))\n",
    "plt.show()"
   ]
  },
  {
   "cell_type": "markdown",
   "metadata": {},
   "source": [
    "#### German yield curves"
   ]
  },
  {
   "cell_type": "code",
   "execution_count": null,
   "metadata": {},
   "outputs": [],
   "source": [
    "DE2y10y = DE_bond_yields['10y'] - DE_bond_yields['2y']"
   ]
  },
  {
   "cell_type": "code",
   "execution_count": null,
   "metadata": {},
   "outputs": [],
   "source": [
    "DE2y10y.loc[start:].plot(figsize=(14, 6))\n",
    "plt.show()"
   ]
  },
  {
   "cell_type": "markdown",
   "metadata": {},
   "source": [
    "#### Todo"
   ]
  },
  {
   "cell_type": "code",
   "execution_count": null,
   "metadata": {},
   "outputs": [],
   "source": [
    "# Write function for DE yield curves\n",
    "\n",
    "#def generate_yieldcurves:\n",
    "\n",
    "#DE_yield_curve = pd.DataFrame()\n",
    "#DE_yield_curve['2y10y'] =  DE_bond_yields.apply(lambda x: x['10y'] - x['2y'], axis=1)\n",
    "\n",
    "#def clean_and_join(input_name, tenor):\n",
    "#    \"\"\"\n",
    "#    \"\"\"\n",
    "#    combined = pd.DataFrame() \n",
    "#    for i in range(len(tenor)):\n",
    "#        result = bunds_clean(DE[input_name[i]], tenor[i])\n",
    "#        combined = pd.concat([combined, result], axis=1)\n",
    "#    return combined"
   ]
  }
 ],
 "metadata": {
  "kernelspec": {
   "display_name": "Python 3",
   "language": "python",
   "name": "python3"
  },
  "language_info": {
   "codemirror_mode": {
    "name": "ipython",
    "version": 3
   },
   "file_extension": ".py",
   "mimetype": "text/x-python",
   "name": "python",
   "nbconvert_exporter": "python",
   "pygments_lexer": "ipython3",
   "version": "3.6.5"
  },
  "latex_envs": {
   "LaTeX_envs_menu_present": true,
   "autoclose": false,
   "autocomplete": true,
   "bibliofile": "biblio.bib",
   "cite_by": "apalike",
   "current_citInitial": 1,
   "eqLabelWithNumbers": true,
   "eqNumInitial": 1,
   "hotkeys": {
    "equation": "Ctrl-E",
    "itemize": "Ctrl-I"
   },
   "labels_anchors": false,
   "latex_user_defs": false,
   "report_style_numbering": false,
   "user_envs_cfg": false
  }
 },
 "nbformat": 4,
 "nbformat_minor": 2
}
