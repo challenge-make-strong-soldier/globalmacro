{
 "cells": [
  {
   "cell_type": "markdown",
   "metadata": {},
   "source": [
    "Goals"
   ]
  },
  {
   "cell_type": "markdown",
   "metadata": {},
   "source": [
    "1. As real-time, high-freq as possible data points about the global economy\n",
    "2. Start with major yield curves and show composition / contributions to total yield curves of various countries - where are yield curves flattening, where steepening (contrib are to one global yieldcurve, weighted by GDP?)\n",
    "3. Include nowcasts\n",
    "4. Scrape important headlines?\n",
    "\n"
   ]
  },
  {
   "cell_type": "markdown",
   "metadata": {
    "heading_collapsed": true
   },
   "source": [
    "### Import libraries"
   ]
  },
  {
   "cell_type": "code",
   "execution_count": 4,
   "metadata": {
    "hidden": true
   },
   "outputs": [],
   "source": [
    "import quandl\n",
    "import pandas as pd\n",
    "import numpy as np\n",
    "import matplotlib.pyplot as plt\n",
    "\n",
    "import pandas_datareader.data as web\n",
    "import datetime\n",
    "\n",
    "%matplotlib inline\n",
    "plt.close('all')"
   ]
  },
  {
   "cell_type": "markdown",
   "metadata": {
    "heading_collapsed": true
   },
   "source": [
    "### US Treasury bond yields"
   ]
  },
  {
   "cell_type": "code",
   "execution_count": null,
   "metadata": {
    "hidden": true
   },
   "outputs": [],
   "source": []
  },
  {
   "cell_type": "markdown",
   "metadata": {
    "hidden": true
   },
   "source": [
    "#### Load data US treasury bond yields"
   ]
  },
  {
   "cell_type": "code",
   "execution_count": null,
   "metadata": {
    "hidden": true
   },
   "outputs": [],
   "source": [
    "yieldcurve_full_data = quandl.get(\"USTREASURY/YIELD\", authtoken=\"e4FyZJfz6ukboUWG4Pm_\")"
   ]
  },
  {
   "cell_type": "code",
   "execution_count": null,
   "metadata": {
    "hidden": true
   },
   "outputs": [],
   "source": [
    "yieldcurve_DF = pd.DataFrame(yieldcurve_full_data)\n",
    "yieldcurve_full_data.to_csv(\"yieldcurve_full_data.csv\")    # dump into CSV file"
   ]
  },
  {
   "cell_type": "code",
   "execution_count": null,
   "metadata": {
    "hidden": true
   },
   "outputs": [],
   "source": [
    "yieldcurve_DF.tail()"
   ]
  },
  {
   "cell_type": "markdown",
   "metadata": {
    "hidden": true
   },
   "source": [
    "#### Plot US Treasury yields for different tenors "
   ]
  },
  {
   "cell_type": "code",
   "execution_count": null,
   "metadata": {
    "hidden": true
   },
   "outputs": [],
   "source": [
    "yieldcurve_DF.plot(subplots=True, layout=(4,3), figsize=(16, 10))\n",
    "plt.show()"
   ]
  },
  {
   "cell_type": "code",
   "execution_count": null,
   "metadata": {
    "hidden": true
   },
   "outputs": [],
   "source": [
    "#yieldcurve_DF.plot(colormap=\"cubehelix\",figsize=(15, 15)) # subplots=True, layout=(4,3))\n",
    "#plt.show()"
   ]
  },
  {
   "cell_type": "code",
   "execution_count": null,
   "metadata": {
    "hidden": true
   },
   "outputs": [],
   "source": [
    "start = datetime.datetime(2010, 1, 1)\n",
    "end = datetime.datetime(2019, 3, 27)"
   ]
  },
  {
   "cell_type": "code",
   "execution_count": null,
   "metadata": {
    "hidden": true
   },
   "outputs": [],
   "source": [
    "gdp = web.DataReader('GDP', 'fred', start, end)\n",
    "gdp.head()"
   ]
  },
  {
   "cell_type": "code",
   "execution_count": null,
   "metadata": {
    "hidden": true
   },
   "outputs": [],
   "source": [
    "gdp.loc['2013-01-01']"
   ]
  },
  {
   "cell_type": "code",
   "execution_count": null,
   "metadata": {
    "hidden": true
   },
   "outputs": [],
   "source": [
    "inflation = web.DataReader(['CPIAUCSL', 'CPILFESL'], 'fred', start, end)"
   ]
  },
  {
   "cell_type": "code",
   "execution_count": null,
   "metadata": {
    "hidden": true
   },
   "outputs": [],
   "source": [
    "inflation.head()"
   ]
  },
  {
   "cell_type": "markdown",
   "metadata": {
    "hidden": true
   },
   "source": [
    "#### 10-Year Treasury Constant Maturity Minus 3-Month Treasury Constant Maturity "
   ]
  },
  {
   "cell_type": "code",
   "execution_count": null,
   "metadata": {
    "hidden": true
   },
   "outputs": [],
   "source": [
    "fredyc = web.DataReader(['T10Y3MM'], 'fred', start, end)"
   ]
  },
  {
   "cell_type": "code",
   "execution_count": null,
   "metadata": {
    "hidden": true
   },
   "outputs": [],
   "source": [
    "fredyc.head()"
   ]
  },
  {
   "cell_type": "code",
   "execution_count": null,
   "metadata": {
    "hidden": true
   },
   "outputs": [],
   "source": [
    "fredyc.tail()"
   ]
  },
  {
   "cell_type": "markdown",
   "metadata": {
    "hidden": true
   },
   "source": [
    "#### 10-Year Treasury Constant Maturity Minus 2-Year Treasury Constant Maturity "
   ]
  },
  {
   "cell_type": "code",
   "execution_count": null,
   "metadata": {
    "hidden": true
   },
   "outputs": [],
   "source": [
    "TSY2y10y_fred = web.DataReader(['T10Y2Y'], 'fred', start, end)"
   ]
  },
  {
   "cell_type": "code",
   "execution_count": null,
   "metadata": {
    "hidden": true
   },
   "outputs": [],
   "source": [
    "TSY2y10y_fred.tail()"
   ]
  },
  {
   "cell_type": "code",
   "execution_count": null,
   "metadata": {
    "hidden": true
   },
   "outputs": [],
   "source": [
    "# finalised dataframe write to different file  pandasDF.to_csv(\"......csv\")"
   ]
  },
  {
   "cell_type": "code",
   "execution_count": 5,
   "metadata": {
    "hidden": true
   },
   "outputs": [
    {
     "data": {
      "text/plain": [
       "['.ipynb_checkpoints',\n",
       " '6m.csv',\n",
       " 'DE10y.csv',\n",
       " 'DE1y.csv',\n",
       " 'DE20y.csv',\n",
       " 'DE2y.csv',\n",
       " 'DE30y.csv',\n",
       " 'DE5y.csv',\n",
       " 'DE6m.csv',\n",
       " 'Macro dashboard-backup .ipynb',\n",
       " 'Macro dashboard.ipynb',\n",
       " 'ust.csv',\n",
       " 'yieldcurve_full_data.csv']"
      ]
     },
     "execution_count": 5,
     "metadata": {},
     "output_type": "execute_result"
    }
   ],
   "source": [
    "import os\n",
    "os.getcwd()\n",
    "os.listdir()"
   ]
  },
  {
   "cell_type": "code",
   "execution_count": null,
   "metadata": {
    "hidden": true
   },
   "outputs": [],
   "source": [
    "yieldcurve_DF.columns"
   ]
  },
  {
   "cell_type": "code",
   "execution_count": null,
   "metadata": {
    "hidden": true
   },
   "outputs": [],
   "source": [
    "TSY3m2y =  yieldcurve_DF['2 YR'] - yieldcurve_DF['3 MO']"
   ]
  },
  {
   "cell_type": "code",
   "execution_count": null,
   "metadata": {
    "hidden": true
   },
   "outputs": [],
   "source": [
    "TSY3m2y.plot()"
   ]
  },
  {
   "cell_type": "code",
   "execution_count": null,
   "metadata": {
    "hidden": true
   },
   "outputs": [],
   "source": [
    "TSY2y10y_quandl =  yieldcurve_DF['10 YR'] - yieldcurve_DF['2 YR']"
   ]
  },
  {
   "cell_type": "code",
   "execution_count": null,
   "metadata": {
    "hidden": true
   },
   "outputs": [],
   "source": [
    "TSY2y10y_quandl.plot()"
   ]
  },
  {
   "cell_type": "code",
   "execution_count": null,
   "metadata": {
    "hidden": true
   },
   "outputs": [],
   "source": [
    "TSY3m10y_quandl =  yieldcurve_DF['10 YR'] - yieldcurve_DF['3 MO']"
   ]
  },
  {
   "cell_type": "code",
   "execution_count": null,
   "metadata": {
    "hidden": true
   },
   "outputs": [],
   "source": [
    "TSY3m10y_quandl.plot()"
   ]
  },
  {
   "cell_type": "code",
   "execution_count": null,
   "metadata": {
    "hidden": true
   },
   "outputs": [],
   "source": [
    "TSY2y10y_quandl.loc['20100102':].plot(figsize=(16, 8))\n",
    "plt.show()"
   ]
  },
  {
   "cell_type": "code",
   "execution_count": null,
   "metadata": {
    "hidden": true
   },
   "outputs": [],
   "source": [
    "TSY2y10y_fred.loc['20100102':].plot(figsize=(16, 8))\n",
    "plt.show()"
   ]
  },
  {
   "cell_type": "markdown",
   "metadata": {
    "hidden": true
   },
   "source": [
    "#### Checking for missing values"
   ]
  },
  {
   "cell_type": "code",
   "execution_count": 6,
   "metadata": {
    "hidden": true
   },
   "outputs": [],
   "source": [
    "import missingno as msno"
   ]
  },
  {
   "cell_type": "code",
   "execution_count": null,
   "metadata": {
    "hidden": true
   },
   "outputs": [],
   "source": [
    "msno.bar(yieldcurve_DF.sample(7295), figsize=(10, 4))\n",
    "plt.show()"
   ]
  },
  {
   "cell_type": "markdown",
   "metadata": {},
   "source": [
    "## Germany Bund yields and curve"
   ]
  },
  {
   "cell_type": "code",
   "execution_count": 55,
   "metadata": {},
   "outputs": [],
   "source": [
    "# assigns URL for Bund instruments to input variable\n",
    "DE6m_input = (\"https://www.bundesbank.de/statistic-rmi/StatisticDownload?tsId=BBK01.WT3210&mode=its&its_fileFormat=csv&its_csvFormat=de&its_currency=default&its_dateFormat=default&its_from=&its_to=\")\n",
    "DE1y_input = (\"https://www.bundesbank.de/statistic-rmi/StatisticDownload?tsId=BBK01.WT3211&mode=its&its_fileFormat=csv&its_csvFormat=de&its_currency=default&its_dateFormat=default&its_from=&its_to=\")\n",
    "DE2y_input = (\"https://www.bundesbank.de/statistic-rmi/StatisticDownload?tsId=BBK01.WT3213&mode=its&its_fileFormat=csv&its_csvFormat=de&its_currency=default&its_dateFormat=default&its_from=&its_to=\")\n",
    "DE5y_input = (\"https://www.bundesbank.de/statistic-rmi/StatisticDownload?tsId=BBK01.WT3219&mode=its&its_fileFormat=csv&its_csvFormat=de&its_currency=default&its_dateFormat=default&its_from=&its_to=\")\n",
    "DE10y_input = (\"https://www.bundesbank.de/statistic-rmi/StatisticDownload?tsId=BBK01.WT3229&mode=its&its_fileFormat=csv&its_csvFormat=de&its_currency=default&its_dateFormat=default&its_from=&its_to=\")\n",
    "DE20y_input = (\"https://www.bundesbank.de/statistic-rmi/StatisticDownload?tsId=BBK01.WT3449&mode=its&its_fileFormat=csv&its_csvFormat=de&its_currency=default&its_dateFormat=default&its_from=&its_to=\")\n",
    "DE30y_input = (\"https://www.bundesbank.de/statistic-rmi/StatisticDownload?tsId=BBK01.WT3500&mode=its&its_fileFormat=csv&its_csvFormat=de&its_currency=default&its_dateFormat=default&its_from=&its_to=\")"
   ]
  },
  {
   "cell_type": "markdown",
   "metadata": {
    "heading_collapsed": true
   },
   "source": [
    "### old"
   ]
  },
  {
   "cell_type": "code",
   "execution_count": null,
   "metadata": {
    "hidden": true
   },
   "outputs": [],
   "source": [
    "def bunds_clean(URL, tenor):\n",
    "    \"\"\"\n",
    "    transforms very poorly formatted CSV file from German Bundesbank\n",
    "    into usable file for analysis and visualtion\n",
    "    \"\"\"\n",
    "    DF = pd.read_csv(URL, sep=';')\n",
    "    \n",
    "    assert type(tenor) == str, \"Tenor needs to be a string\"\n",
    "        \n",
    "    # remove rows without relevant data\n",
    "    DF = DF[4:-1]\n",
    "    # rename columns to give meaningful name\n",
    "    new_columns = DF.columns.values\n",
    "    new_columns[0] = 'DATE'\n",
    "    new_columns[1] = tenor \n",
    "#   new_columns[1] = 'RATE'\n",
    "    DF.columns = new_columns\n",
    "    \n",
    "    # assign last column to variable 'dropcolumn'\n",
    "    dropcolumn = DF.columns[2]\n",
    "    # use dropcolumn to remove rows that have missing values (indicated by string in German instead of NaN)\n",
    "    DF = DF[DF[dropcolumn] != 'Kein Wert vorhanden']\n",
    "    # now remove last column \n",
    "    DF = DF.drop([dropcolumn], axis=1)\n",
    "\n",
    "    # reset dataframe index to 0 - was not the case because we removed rows earlier\n",
    "    DF.reset_index(drop=True, inplace=True)\n",
    "    \n",
    "    # replace German comma (,) with dot in RATE column\n",
    "    DF[tenor] = [x.replace(',', '.') for x in DF[tenor]]\n",
    "#   DF['RATE'] = [x.replace(',', '.') for x in DF['RATE']]\n",
    "\n",
    "    # convert RATE column values from string to float\n",
    "#   DF.RATE = DF.RATE.astype(float)\n",
    "    DF[tenor] = DF[tenor].astype('float')\n",
    "    # convert DATE column values from string to datetime\n",
    "    DF['DATE'] = pd.to_datetime(DF['DATE'])\n",
    "\n",
    "    # replace dataframe index column with DATE column\n",
    "    DF.set_index(['DATE'], drop=True, inplace=True)\n",
    "    \n",
    "    return DF"
   ]
  },
  {
   "cell_type": "markdown",
   "metadata": {},
   "source": [
    "### collapsed above"
   ]
  },
  {
   "cell_type": "code",
   "execution_count": 50,
   "metadata": {},
   "outputs": [],
   "source": [
    "# calls data cleaning function and passes URL into it, backs up output as CSV file afterwards\n",
    "\n",
    "tenor = '6m'\n",
    "DE6m = bunds_clean(DE6m_input, tenor)\n",
    "DE6m.to_csv(\"DE6m.csv\")\n",
    "\n",
    "tenor = '1y'\n",
    "DE1y = bunds_clean(DE1y_input, tenor)\n",
    "DE1y.to_csv(\"DE1y.csv\")\n",
    "\n",
    "DE2y = bunds_clean(DE2y_input, tenor)\n",
    "DE2y.to_csv(\"DE2y.csv\")\n",
    "\n",
    "DE5y = bunds_clean(DE5y_input, tenor)\n",
    "DE5y.to_csv(\"DE5y.csv\")\n",
    "\n",
    "DE10y = bunds_clean(DE10y_input, tenor)\n",
    "DE10y.to_csv(\"DE10y.csv\")\n",
    "\n",
    "DE20y = bunds_clean(DE20y_input, tenor)\n",
    "DE20y.to_csv(\"DE20y.csv\")\n",
    "\n",
    "DE30y = bunds_clean(DE30y_input, tenor)\n",
    "DE30y.to_csv(\"DE30y.csv\")\n"
   ]
  },
  {
   "cell_type": "code",
   "execution_count": null,
   "metadata": {},
   "outputs": [],
   "source": [
    "DE2y.tail()"
   ]
  },
  {
   "cell_type": "code",
   "execution_count": null,
   "metadata": {},
   "outputs": [],
   "source": [
    "DE10y.tail()"
   ]
  },
  {
   "cell_type": "code",
   "execution_count": 54,
   "metadata": {},
   "outputs": [
    {
     "data": {
      "image/png": "[encoded data removed]",
      "text/plain": [
       "<Figure size 1008x432 with 1 Axes>"
      ]
     },
     "metadata": {
      "needs_background": "light"
     },
     "output_type": "display_data"
    }
   ],
   "source": [
    "start = '20120101'\n",
    "end = ''\n",
    "DE2y.loc[start:].plot(figsize=(14, 6))\n",
    "plt.show()"
   ]
  },
  {
   "cell_type": "code",
   "execution_count": null,
   "metadata": {},
   "outputs": [],
   "source": [
    "start = '20120101'\n",
    "end = ''\n",
    "DE10y.loc[start:].plot(figsize=(14, 6))\n",
    "plt.show()"
   ]
  },
  {
   "cell_type": "code",
   "execution_count": null,
   "metadata": {},
   "outputs": [],
   "source": [
    "DE2y10y =  DE10y['RATE'] - DE2y['RATE']"
   ]
  },
  {
   "cell_type": "code",
   "execution_count": null,
   "metadata": {},
   "outputs": [],
   "source": [
    "DE2y10y.loc[start:].plot(figsize=(14, 6))\n",
    "plt.show()"
   ]
  },
  {
   "cell_type": "code",
   "execution_count": 7,
   "metadata": {},
   "outputs": [],
   "source": [
    "# assigns URL for Bund instruments to input variable\n",
    "DE6m_input = (\"https://www.bundesbank.de/statistic-rmi/StatisticDownload?tsId=BBK01.WT3210&mode=its&its_fileFormat=csv&its_csvFormat=de&its_currency=default&its_dateFormat=default&its_from=&its_to=\")\n",
    "DE1y_input = (\"https://www.bundesbank.de/statistic-rmi/StatisticDownload?tsId=BBK01.WT3211&mode=its&its_fileFormat=csv&its_csvFormat=de&its_currency=default&its_dateFormat=default&its_from=&its_to=\")\n",
    "DE2y_input = (\"https://www.bundesbank.de/statistic-rmi/StatisticDownload?tsId=BBK01.WT3213&mode=its&its_fileFormat=csv&its_csvFormat=de&its_currency=default&its_dateFormat=default&its_from=&its_to=\")\n",
    "DE5y_input = (\"https://www.bundesbank.de/statistic-rmi/StatisticDownload?tsId=BBK01.WT3219&mode=its&its_fileFormat=csv&its_csvFormat=de&its_currency=default&its_dateFormat=default&its_from=&its_to=\")\n",
    "DE10y_input = (\"https://www.bundesbank.de/statistic-rmi/StatisticDownload?tsId=BBK01.WT3229&mode=its&its_fileFormat=csv&its_csvFormat=de&its_currency=default&its_dateFormat=default&its_from=&its_to=\")\n",
    "DE20y_input = (\"https://www.bundesbank.de/statistic-rmi/StatisticDownload?tsId=BBK01.WT3449&mode=its&its_fileFormat=csv&its_csvFormat=de&its_currency=default&its_dateFormat=default&its_from=&its_to=\")\n",
    "DE30y_input = (\"https://www.bundesbank.de/statistic-rmi/StatisticDownload?tsId=BBK01.WT3500&mode=its&its_fileFormat=csv&its_csvFormat=de&its_currency=default&its_dateFormat=default&its_from=&its_to=\")"
   ]
  },
  {
   "cell_type": "code",
   "execution_count": 277,
   "metadata": {},
   "outputs": [],
   "source": [
    "def bunds_clean(URL, tenor):\n",
    "    \"\"\"\n",
    "    transforms very poorly formatted CSV file from German Bundesbank\n",
    "    into usable file for analysis and visualtion\n",
    "    \"\"\"\n",
    "    DF = pd.read_csv(URL, sep=';')\n",
    "    \n",
    "    assert type(tenor) == str, \"Tenor needs to be a string\"\n",
    "        \n",
    "    # remove rows without relevant data\n",
    "    DF = DF[4:-1]\n",
    "    # rename columns to give meaningful name\n",
    "    new_columns = DF.columns.values\n",
    "    new_columns[0] = 'DATE'\n",
    "    new_columns[1] = tenor \n",
    "#   new_columns[1] = 'RATE'\n",
    "    DF.columns = new_columns\n",
    "    \n",
    "    # assign last column to variable 'dropcolumn'\n",
    "    dropcolumn = DF.columns[2]\n",
    "    # use dropcolumn to remove rows that have missing values (indicated by string in German instead of NaN)\n",
    "    DF = DF[DF[dropcolumn] != 'Kein Wert vorhanden']\n",
    "    # now remove last column \n",
    "    DF = DF.drop([dropcolumn], axis=1)\n",
    "\n",
    "    # reset dataframe index to 0 - was not the case because we removed rows earlier\n",
    "    DF.reset_index(drop=True, inplace=True)\n",
    "    \n",
    "    # replace German comma (,) with dot in RATE column\n",
    "    DF[tenor] = [x.replace(',', '.') for x in DF[tenor]]\n",
    "#   DF['RATE'] = [x.replace(',', '.') for x in DF['RATE']]\n",
    "\n",
    "    # convert RATE column values from string to float\n",
    "#   DF.RATE = DF.RATE.astype(float)\n",
    "    DF[tenor] = DF[tenor].astype('float')\n",
    "    # convert DATE column values from string to datetime\n",
    "    DF['DATE'] = pd.to_datetime(DF['DATE'])\n",
    "\n",
    "    # replace dataframe index column with DATE column\n",
    "    DF.set_index(['DATE'], drop=True, inplace=True)\n",
    "    \n",
    "    return DF\n",
    "\n",
    "def instrument_names(x):\n",
    "    y = [0] * len(x)\n",
    "    for i in x:\n",
    "        index = x.index(i)\n",
    "        if index < len(x):\n",
    "            x[index] = 'DE'+ i\n",
    "            y[index] = x[index] + '_input'\n",
    "    return x, y\n",
    "\n",
    "def call_clean(bond, file, tenor):\n",
    "    for i in tenor:\n",
    "        #print(tenor[i])\n",
    "        #print(file)\n",
    "        result = bunds_clean(file, tenor)\n",
    "        result.to_csv(\"i.csv\")\n",
    "        return result\n",
    "        \n",
    "\n",
    "#def call_clean(bond, tenor):\n",
    "#    for i in bond:\n",
    "#        file_name = \"i + '_input'\"\n",
    "#        result = bunds_clean(file_name, tenor)\n",
    "#        result.to_csv(\"i.csv\")\n",
    "#        return result\n",
    "\n",
    "\n",
    "################\n",
    "##############\n",
    "\n",
    "#CONCATENATE /MERGE IN THIS FUNCTION???? instead of calling it multiple times?\n",
    "\n",
    "\n",
    "#DATAFRAME[i] = bunds_clean(file_name[i], tenor)\n",
    "\n",
    "\n",
    "###############  ?\n",
    "\n",
    "tenor = ['6m', '1y', '2y', '5y','10y', '20y', '30y']\n",
    "\n",
    "DE6m = bunds_clean(DE6m_input, tenor[0])\n",
    "DE6m.to_csv(\"DE6m.csv\")\n",
    "\n",
    "\n",
    "DE1y = bunds_clean(DE1y_input, tenor[1])\n",
    "DE1y.to_csv(\"DE1y.csv\")\n",
    "\n",
    "DE2y = bunds_clean(DE2y_input, tenor[2])\n",
    "DE2y.to_csv(\"DE2y.csv\")\n",
    "\n",
    "DE5y = bunds_clean(DE5y_input, tenor[3])\n",
    "DE5y.to_csv(\"DE5y.csv\")\n",
    "\n",
    "DE10y = bunds_clean(DE10y_input, tenor[4])\n",
    "DE10y.to_csv(\"DE10y.csv\")\n",
    "\n",
    "DE20y = bunds_clean(DE20y_input, tenor[5])\n",
    "DE20y.to_csv(\"DE20y.csv\")\n",
    "\n",
    "DE30y = bunds_clean(DE30y_input, tenor[6])\n",
    "DE30y.to_csv(\"DE30y.csv\")\n",
    "\n",
    "results = instrument_names(tenor[:])\n",
    "instruments = results[0]\n",
    "\n",
    "\n",
    "combined3 = pd.concat([DE6m,DE1y,DE2y,DE5y,DE10y,DE20y,DE30y], axis=1)\n",
    "#combined2.columns = [tenor[0], tenor[1], tenor[2], tenor[3], tenor[4], tenor[5], tenor[6]]\n"
   ]
  },
  {
   "cell_type": "code",
   "execution_count": 278,
   "metadata": {},
   "outputs": [
    {
     "data": {
      "text/html": [
       "<div>\n",
       "<style scoped>\n",
       "    .dataframe tbody tr th:only-of-type {\n",
       "        vertical-align: middle;\n",
       "    }\n",
       "\n",
       "    .dataframe tbody tr th {\n",
       "        vertical-align: top;\n",
       "    }\n",
       "\n",
       "    .dataframe thead th {\n",
       "        text-align: right;\n",
       "    }\n",
       "</style>\n",
       "<table border=\"1\" class=\"dataframe\">\n",
       "  <thead>\n",
       "    <tr style=\"text-align: right;\">\n",
       "      <th></th>\n",
       "      <th>6m</th>\n",
       "      <th>1y</th>\n",
       "      <th>2y</th>\n",
       "      <th>5y</th>\n",
       "      <th>10y</th>\n",
       "      <th>20y</th>\n",
       "      <th>30y</th>\n",
       "    </tr>\n",
       "    <tr>\n",
       "      <th>DATE</th>\n",
       "      <th></th>\n",
       "      <th></th>\n",
       "      <th></th>\n",
       "      <th></th>\n",
       "      <th></th>\n",
       "      <th></th>\n",
       "      <th></th>\n",
       "    </tr>\n",
       "  </thead>\n",
       "  <tbody>\n",
       "    <tr>\n",
       "      <th>2019-02-26</th>\n",
       "      <td>-0.58</td>\n",
       "      <td>-0.58</td>\n",
       "      <td>-0.56</td>\n",
       "      <td>-0.36</td>\n",
       "      <td>0.09</td>\n",
       "      <td>0.61</td>\n",
       "      <td>0.83</td>\n",
       "    </tr>\n",
       "    <tr>\n",
       "      <th>2019-02-27</th>\n",
       "      <td>-0.57</td>\n",
       "      <td>-0.57</td>\n",
       "      <td>-0.56</td>\n",
       "      <td>-0.36</td>\n",
       "      <td>0.11</td>\n",
       "      <td>0.63</td>\n",
       "      <td>0.84</td>\n",
       "    </tr>\n",
       "    <tr>\n",
       "      <th>2019-02-28</th>\n",
       "      <td>-0.57</td>\n",
       "      <td>-0.57</td>\n",
       "      <td>-0.55</td>\n",
       "      <td>-0.32</td>\n",
       "      <td>0.15</td>\n",
       "      <td>0.66</td>\n",
       "      <td>0.86</td>\n",
       "    </tr>\n",
       "    <tr>\n",
       "      <th>2019-03-01</th>\n",
       "      <td>-0.56</td>\n",
       "      <td>-0.56</td>\n",
       "      <td>-0.53</td>\n",
       "      <td>-0.30</td>\n",
       "      <td>0.17</td>\n",
       "      <td>0.70</td>\n",
       "      <td>0.92</td>\n",
       "    </tr>\n",
       "    <tr>\n",
       "      <th>2019-03-04</th>\n",
       "      <td>-0.54</td>\n",
       "      <td>-0.55</td>\n",
       "      <td>-0.53</td>\n",
       "      <td>-0.30</td>\n",
       "      <td>0.16</td>\n",
       "      <td>NaN</td>\n",
       "      <td>NaN</td>\n",
       "    </tr>\n",
       "  </tbody>\n",
       "</table>\n",
       "</div>"
      ],
      "text/plain": [
       "              6m    1y    2y    5y   10y   20y   30y\n",
       "DATE                                                \n",
       "2019-02-26 -0.58 -0.58 -0.56 -0.36  0.09  0.61  0.83\n",
       "2019-02-27 -0.57 -0.57 -0.56 -0.36  0.11  0.63  0.84\n",
       "2019-02-28 -0.57 -0.57 -0.55 -0.32  0.15  0.66  0.86\n",
       "2019-03-01 -0.56 -0.56 -0.53 -0.30  0.17  0.70  0.92\n",
       "2019-03-04 -0.54 -0.55 -0.53 -0.30  0.16   NaN   NaN"
      ]
     },
     "execution_count": 278,
     "metadata": {},
     "output_type": "execute_result"
    }
   ],
   "source": [
    "#combined2.columns = [tenor[0], tenor[1], tenor[2], tenor[3], tenor[4], tenor[5], tenor[6]]\n",
    "combined3.tail()\n"
   ]
  },
  {
   "cell_type": "code",
   "execution_count": 279,
   "metadata": {},
   "outputs": [
    {
     "data": {
      "text/plain": [
       "<matplotlib.axes._subplots.AxesSubplot at 0x12a106e80>"
      ]
     },
     "execution_count": 279,
     "metadata": {},
     "output_type": "execute_result"
    },
    {
     "data": {
      "image/png": "[encoded data removed]",
      "text/plain": [
       "<Figure size 432x288 with 1 Axes>"
      ]
     },
     "metadata": {
      "needs_background": "light"
     },
     "output_type": "display_data"
    }
   ],
   "source": [
    "combined3.plot()"
   ]
  },
  {
   "cell_type": "code",
   "execution_count": null,
   "metadata": {},
   "outputs": [],
   "source": [
    "DE10y.tail()"
   ]
  },
  {
   "cell_type": "code",
   "execution_count": 114,
   "metadata": {},
   "outputs": [
    {
     "data": {
      "text/html": [
       "<div>\n",
       "<style scoped>\n",
       "    .dataframe tbody tr th:only-of-type {\n",
       "        vertical-align: middle;\n",
       "    }\n",
       "\n",
       "    .dataframe tbody tr th {\n",
       "        vertical-align: top;\n",
       "    }\n",
       "\n",
       "    .dataframe thead th {\n",
       "        text-align: right;\n",
       "    }\n",
       "</style>\n",
       "<table border=\"1\" class=\"dataframe\">\n",
       "  <thead>\n",
       "    <tr style=\"text-align: right;\">\n",
       "      <th></th>\n",
       "      <th>1y</th>\n",
       "    </tr>\n",
       "    <tr>\n",
       "      <th>DATE</th>\n",
       "      <th></th>\n",
       "    </tr>\n",
       "  </thead>\n",
       "  <tbody>\n",
       "    <tr>\n",
       "      <th>2019-02-26</th>\n",
       "      <td>-0.56</td>\n",
       "    </tr>\n",
       "    <tr>\n",
       "      <th>2019-02-27</th>\n",
       "      <td>-0.56</td>\n",
       "    </tr>\n",
       "    <tr>\n",
       "      <th>2019-02-28</th>\n",
       "      <td>-0.55</td>\n",
       "    </tr>\n",
       "    <tr>\n",
       "      <th>2019-03-01</th>\n",
       "      <td>-0.53</td>\n",
       "    </tr>\n",
       "    <tr>\n",
       "      <th>2019-03-04</th>\n",
       "      <td>-0.53</td>\n",
       "    </tr>\n",
       "  </tbody>\n",
       "</table>\n",
       "</div>"
      ],
      "text/plain": [
       "              1y\n",
       "DATE            \n",
       "2019-02-26 -0.56\n",
       "2019-02-27 -0.56\n",
       "2019-02-28 -0.55\n",
       "2019-03-01 -0.53\n",
       "2019-03-04 -0.53"
      ]
     },
     "execution_count": 114,
     "metadata": {},
     "output_type": "execute_result"
    }
   ],
   "source": [
    "DE2y.tail()"
   ]
  },
  {
   "cell_type": "code",
   "execution_count": 115,
   "metadata": {},
   "outputs": [],
   "source": [
    "combined = pd.concat([DE2y, DE10y], axis=1)\n",
    "combined.columns = [ '2y', '10y']"
   ]
  },
  {
   "cell_type": "code",
   "execution_count": 118,
   "metadata": {},
   "outputs": [
    {
     "data": {
      "text/html": [
       "<div>\n",
       "<style scoped>\n",
       "    .dataframe tbody tr th:only-of-type {\n",
       "        vertical-align: middle;\n",
       "    }\n",
       "\n",
       "    .dataframe tbody tr th {\n",
       "        vertical-align: top;\n",
       "    }\n",
       "\n",
       "    .dataframe thead th {\n",
       "        text-align: right;\n",
       "    }\n",
       "</style>\n",
       "<table border=\"1\" class=\"dataframe\">\n",
       "  <thead>\n",
       "    <tr style=\"text-align: right;\">\n",
       "      <th></th>\n",
       "      <th>2y</th>\n",
       "      <th>10y</th>\n",
       "    </tr>\n",
       "    <tr>\n",
       "      <th>DATE</th>\n",
       "      <th></th>\n",
       "      <th></th>\n",
       "    </tr>\n",
       "  </thead>\n",
       "  <tbody>\n",
       "    <tr>\n",
       "      <th>2019-02-26</th>\n",
       "      <td>-0.56</td>\n",
       "      <td>0.09</td>\n",
       "    </tr>\n",
       "    <tr>\n",
       "      <th>2019-02-27</th>\n",
       "      <td>-0.56</td>\n",
       "      <td>0.11</td>\n",
       "    </tr>\n",
       "    <tr>\n",
       "      <th>2019-02-28</th>\n",
       "      <td>-0.55</td>\n",
       "      <td>0.15</td>\n",
       "    </tr>\n",
       "    <tr>\n",
       "      <th>2019-03-01</th>\n",
       "      <td>-0.53</td>\n",
       "      <td>0.17</td>\n",
       "    </tr>\n",
       "    <tr>\n",
       "      <th>2019-03-04</th>\n",
       "      <td>-0.53</td>\n",
       "      <td>0.16</td>\n",
       "    </tr>\n",
       "  </tbody>\n",
       "</table>\n",
       "</div>"
      ],
      "text/plain": [
       "              2y   10y\n",
       "DATE                  \n",
       "2019-02-26 -0.56  0.09\n",
       "2019-02-27 -0.56  0.11\n",
       "2019-02-28 -0.55  0.15\n",
       "2019-03-01 -0.53  0.17\n",
       "2019-03-04 -0.53  0.16"
      ]
     },
     "execution_count": 118,
     "metadata": {},
     "output_type": "execute_result"
    }
   ],
   "source": [
    "combined.tail()"
   ]
  },
  {
   "cell_type": "code",
   "execution_count": 144,
   "metadata": {},
   "outputs": [
    {
     "name": "stdout",
     "output_type": "stream",
     "text": [
      "['DE6m', 'DE1y', 'DE2y', 'DE5y', 'DE10y', 'DE20y', 'DE30y']\n",
      "['DE6m_input', 'DE1y_input', 'DE2y_input', 'DE5y_input', 'DE10y_input', 'DE20y_input', 'DE30y_input']\n",
      "DE6m_input\n"
     ]
    }
   ],
   "source": [
    "tenor = ['6m', '1y', '2y', '5y','10y', '20y', '30y']\n",
    "results = instrument_names(tenor[:])\n",
    "instruments = results[0]\n",
    "file_name = results[1]\n",
    "print(instruments)\n",
    "print(file_name)\n",
    "print(file_name[0])\n",
    "\n",
    "#call_clean(instruments, file_name, tenor)"
   ]
  },
  {
   "cell_type": "code",
   "execution_count": null,
   "metadata": {},
   "outputs": [],
   "source": [
    "import pandas as pd\n",
    "\n",
    "def clean(tenor, instruments, file_name):\n",
    "    col_names = tenor\n",
    "    bunds = pd.DataFrame(columns=col_names)\n",
    "    bunds = bunds.append(instruments[0])\n",
    "    \n",
    "\n",
    "combined = pd.concat([DE2y, DE10y], axis=1)\n",
    "combined.columns = [ '2y', '10y']\n",
    "\n",
    "\n",
    "\n",
    "\n",
    "col_names =  ['A', 'B', 'C']\n",
    "my_df  = pd.DataFrame(columns = col_names)\n",
    "my_df\n",
    "If you want to add a record to the dataframe it would be better to use:\n",
    "\n",
    "my_df.loc[len(my_df)] = [2, 4, 5]\n",
    "You also might want to pass a dictionary:\n",
    "\n",
    "my_dic = {'A':2, 'B':4, 'C':5}\n",
    "my_df.loc[len(my_df)] = my_dic \n",
    "However if you want to add another dataframe to my_df do as follows:\n",
    "\n",
    "col_names =  ['A', 'B', 'C']\n",
    "my_df2  = pd.DataFrame(columns = col_names)\n",
    "my_df = my_df.append(my_df2)"
   ]
  },
  {
   "cell_type": "code",
   "execution_count": null,
   "metadata": {},
   "outputs": [],
   "source": [
    "tenor = '6m'\n",
    "DE6m = bunds_clean(DE6m_input, tenor)\n",
    "DE6m.to_csv(\"DE6m.csv\")"
   ]
  },
  {
   "cell_type": "code",
   "execution_count": null,
   "metadata": {},
   "outputs": [],
   "source": [
    "newDF = pd.DataFrame() #creates a new dataframe that's empty\n",
    "newDF = newDF.append(oldDF, ignore_index = True) # ignoring index is optional\n",
    "# try printing some data from newDF\n",
    "print newDF.head() #again optional \n",
    "\n",
    "\n",
    "#def call_clean(bond, tenor):\n",
    "#    for i in bond:\n",
    "#        file_name = \"i + '_input'\"\n",
    "#        result = bunds_clean(file_name, tenor)\n",
    "#        result.to_csv(\"i.csv\")\n",
    "#        return result\n",
    "\n",
    "def instrument_names(x):\n",
    "    y = [0] * len(x)\n",
    "    for i in x:\n",
    "        index = x.index(i)\n",
    "        if index < len(x):\n",
    "            x[index] = 'DE'+ i\n",
    "            y[index] = x[index] + '_input'\n",
    "    return x, y\n",
    "\n",
    "def call_clean(bond, file, tenor):\n",
    "    for i in tenor:\n",
    "        #print(tenor[i])\n",
    "        #print(file)\n",
    "        result = bunds_clean(file, tenor)\n",
    "        result.to_csv(\"i.csv\")\n",
    "        return result\n",
    "        \n",
    "\n",
    "#def call_clean(bond, tenor):\n",
    "#    for i in bond:\n",
    "#        file_name = \"i + '_input'\"\n",
    "#        result = bunds_clean(file_name, tenor)\n",
    "#        result.to_csv(\"i.csv\")\n",
    "#        return result\n",
    "\n"
   ]
  },
  {
   "cell_type": "code",
   "execution_count": 67,
   "metadata": {},
   "outputs": [],
   "source": [
    "# Todo?\n",
    "# load daily but append only last row (if new data, not on weekends!) to CSV file\n",
    "# https://codereview.stackexchange.com/questions/104050/read-daily-files-and-concatenate-them\n",
    "\n",
    "# One big overview welcome screen - then links (or further down details): nowcast, vix, YC, crude, gold, spx. eur, jpy..\n",
    "\n",
    "# add more bund tenors, add Aussie, Canada, China, India, Russia, etc etc G10?\n",
    "\n",
    "# add little coloured overview +/- day, week, month, quarter, year, 2yr? for quick overview\n",
    "# then show charts \n",
    "\n",
    "#GDP nowcast\n",
    "\n",
    "# inflation? 5y5y breakevens?\n",
    "\n",
    "# VIX\n",
    "#live from google finance \n",
    "#https://www.google.com/search?source=hp&ei=lMN6XIqtBu6Bk74PvbiKsA0&q=vix+hourly+data&btnK=Google+Search&oq=hourly+data+vix&gs_l=psy-ab.3.0.0i22i30.271.5443..6841...6.0..1.148.1338.21j1......0....1..gws-wiz.....6..35i39j0i67j0j0i203.iMHKCyA6mzw\n",
    "# history from Fred\n",
    "# more vol indics: https://fred.stlouisfed.org/categories/32425\n",
    "\n",
    "# interactive: sliders to change dates etc etc"
   ]
  },
  {
   "cell_type": "code",
   "execution_count": 301,
   "metadata": {},
   "outputs": [],
   "source": [
    "import pandas as pd\n",
    "\n",
    "tenor = ['6m', '1y', '2y', '5y','10y', '20y', '30y']\n",
    "DE = {\"DE6m_input\": \"https://www.bundesbank.de/statistic-rmi/StatisticDownload?tsId=BBK01.WT3210&mode=its&its_fileFormat=csv&its_csvFormat=de&its_currency=default&its_dateFormat=default&its_from=&its_to=\",\n",
    "      \"DE1y_input\": \"https://www.bundesbank.de/statistic-rmi/StatisticDownload?tsId=BBK01.WT3211&mode=its&its_fileFormat=csv&its_csvFormat=de&its_currency=default&its_dateFormat=default&its_from=&its_to=\",\n",
    "      \"DE2y_input\": \"https://www.bundesbank.de/statistic-rmi/StatisticDownload?tsId=BBK01.WT3213&mode=its&its_fileFormat=csv&its_csvFormat=de&its_currency=default&its_dateFormat=default&its_from=&its_to=\",\n",
    "      \"DE5y_input\": \"https://www.bundesbank.de/statistic-rmi/StatisticDownload?tsId=BBK01.WT3219&mode=its&its_fileFormat=csv&its_csvFormat=de&its_currency=default&its_dateFormat=default&its_from=&its_to=\",\n",
    "      \"DE10y_input\": \"https://www.bundesbank.de/statistic-rmi/StatisticDownload?tsId=BBK01.WT3229&mode=its&its_fileFormat=csv&its_csvFormat=de&its_currency=default&its_dateFormat=default&its_from=&its_to=\",\n",
    "      \"DE20y_input\": \"https://www.bundesbank.de/statistic-rmi/StatisticDownload?tsId=BBK01.WT3449&mode=its&its_fileFormat=csv&its_csvFormat=de&its_currency=default&its_dateFormat=default&its_from=&its_to=\",\n",
    "      \"DE30y_input\": \"https://www.bundesbank.de/statistic-rmi/StatisticDownload?tsId=BBK01.WT3500&mode=its&its_fileFormat=csv&its_csvFormat=de&its_currency=default&its_dateFormat=default&its_from=&its_to=\"}\n",
    "\n",
    "results = instrument_names(tenor[:])\n",
    "instruments = results[0]\n",
    "file_name = results[1]\n",
    "#print(instruments, file_name)\n",
    "\n",
    "#col_names1 = tenor\n",
    "#bunds1 = pd.DataFrame(columns=col_names1)\n",
    "bunds6m = bunds_clean(DE[file_name[0]], tenor[0])\n",
    "bunds1y = bunds_clean(DE[file_name[1]], tenor[1])\n",
    "bunds2y = bunds_clean(DE[file_name[2]], tenor[2])\n",
    "bunds5y = bunds_clean(DE[file_name[3]], tenor[3])\n",
    "bunds10y = bunds_clean(DE[file_name[4]], tenor[4])\n",
    "bunds20y = bunds_clean(DE[file_name[5]], tenor[5])\n",
    "bunds30y = bunds_clean(DE[file_name[6]], tenor[6])\n",
    "\n",
    "\n",
    "  \n",
    "\n",
    "\n",
    "#bunds3 = bunds0.append(bunds2, 'sort=True')\n",
    "DEbonds = pd.concat([bunds6m,bunds1y, bunds2y, bunds5y, bunds10y, bunds20y, bunds30y], axis=1)\n",
    "DEbonds.columns = [tenor[0], tenor[1], tenor[2], tenor[3], tenor[4], tenor[5], tenor[6]]\n",
    "\n",
    "\n",
    "\n",
    "\n",
    "\n",
    "# assigns URL for Bund instruments to input variable\n",
    "\n",
    "\n",
    "\n",
    "\n",
    "    \n",
    "\n",
    "#combined = pd.concat([DE2y, DE10y], axis=1)\n",
    "#combined.columns = [ '2y', '10y']\n",
    "\n",
    "\n",
    "\n",
    "\n",
    "\n"
   ]
  },
  {
   "cell_type": "code",
   "execution_count": 303,
   "metadata": {},
   "outputs": [
    {
     "data": {
      "text/html": [
       "<div>\n",
       "<style scoped>\n",
       "    .dataframe tbody tr th:only-of-type {\n",
       "        vertical-align: middle;\n",
       "    }\n",
       "\n",
       "    .dataframe tbody tr th {\n",
       "        vertical-align: top;\n",
       "    }\n",
       "\n",
       "    .dataframe thead th {\n",
       "        text-align: right;\n",
       "    }\n",
       "</style>\n",
       "<table border=\"1\" class=\"dataframe\">\n",
       "  <thead>\n",
       "    <tr style=\"text-align: right;\">\n",
       "      <th></th>\n",
       "      <th>6m</th>\n",
       "      <th>1y</th>\n",
       "      <th>2y</th>\n",
       "      <th>5y</th>\n",
       "      <th>10y</th>\n",
       "      <th>20y</th>\n",
       "      <th>30y</th>\n",
       "    </tr>\n",
       "    <tr>\n",
       "      <th>DATE</th>\n",
       "      <th></th>\n",
       "      <th></th>\n",
       "      <th></th>\n",
       "      <th></th>\n",
       "      <th></th>\n",
       "      <th></th>\n",
       "      <th></th>\n",
       "    </tr>\n",
       "  </thead>\n",
       "  <tbody>\n",
       "    <tr>\n",
       "      <th>2019-02-26</th>\n",
       "      <td>-0.58</td>\n",
       "      <td>-0.58</td>\n",
       "      <td>-0.56</td>\n",
       "      <td>-0.36</td>\n",
       "      <td>0.09</td>\n",
       "      <td>0.61</td>\n",
       "      <td>0.83</td>\n",
       "    </tr>\n",
       "    <tr>\n",
       "      <th>2019-02-27</th>\n",
       "      <td>-0.57</td>\n",
       "      <td>-0.57</td>\n",
       "      <td>-0.56</td>\n",
       "      <td>-0.36</td>\n",
       "      <td>0.11</td>\n",
       "      <td>0.63</td>\n",
       "      <td>0.84</td>\n",
       "    </tr>\n",
       "    <tr>\n",
       "      <th>2019-02-28</th>\n",
       "      <td>-0.57</td>\n",
       "      <td>-0.57</td>\n",
       "      <td>-0.55</td>\n",
       "      <td>-0.32</td>\n",
       "      <td>0.15</td>\n",
       "      <td>0.66</td>\n",
       "      <td>0.86</td>\n",
       "    </tr>\n",
       "    <tr>\n",
       "      <th>2019-03-01</th>\n",
       "      <td>-0.56</td>\n",
       "      <td>-0.56</td>\n",
       "      <td>-0.53</td>\n",
       "      <td>-0.30</td>\n",
       "      <td>0.17</td>\n",
       "      <td>0.70</td>\n",
       "      <td>0.92</td>\n",
       "    </tr>\n",
       "    <tr>\n",
       "      <th>2019-03-04</th>\n",
       "      <td>-0.54</td>\n",
       "      <td>-0.55</td>\n",
       "      <td>-0.53</td>\n",
       "      <td>-0.30</td>\n",
       "      <td>0.16</td>\n",
       "      <td>NaN</td>\n",
       "      <td>NaN</td>\n",
       "    </tr>\n",
       "  </tbody>\n",
       "</table>\n",
       "</div>"
      ],
      "text/plain": [
       "              6m    1y    2y    5y   10y   20y   30y\n",
       "DATE                                                \n",
       "2019-02-26 -0.58 -0.58 -0.56 -0.36  0.09  0.61  0.83\n",
       "2019-02-27 -0.57 -0.57 -0.56 -0.36  0.11  0.63  0.84\n",
       "2019-02-28 -0.57 -0.57 -0.55 -0.32  0.15  0.66  0.86\n",
       "2019-03-01 -0.56 -0.56 -0.53 -0.30  0.17  0.70  0.92\n",
       "2019-03-04 -0.54 -0.55 -0.53 -0.30  0.16   NaN   NaN"
      ]
     },
     "execution_count": 303,
     "metadata": {},
     "output_type": "execute_result"
    }
   ],
   "source": [
    "DEbonds.tail()"
   ]
  },
  {
   "cell_type": "code",
   "execution_count": 304,
   "metadata": {},
   "outputs": [],
   "source": [
    "def clean(file_name, tenor):\n",
    "    combined = pd.DataFrame()\n",
    "    for i in range(len(tenor)):\n",
    "        result = bunds_clean(DE[file_name[i]], tenor[i])\n",
    "        combined = pd.concat([combined, result], axis=1)\n",
    "    return combined\n",
    "\n",
    "DE_bond_yields = clean(file_name, tenor)\n",
    "DE_bond_yields.to_csv(\"DE_bond_yields.csv\")"
   ]
  },
  {
   "cell_type": "code",
   "execution_count": 255,
   "metadata": {},
   "outputs": [
    {
     "data": {
      "text/plain": [
       "<matplotlib.axes._subplots.AxesSubplot at 0x129867b00>"
      ]
     },
     "execution_count": 255,
     "metadata": {},
     "output_type": "execute_result"
    },
    {
     "data": {
      "image/png": "[encoded data removed]",
      "text/plain": [
       "<Figure size 432x288 with 1 Axes>"
      ]
     },
     "metadata": {
      "needs_background": "light"
     },
     "output_type": "display_data"
    }
   ],
   "source": [
    "combined.plot()"
   ]
  },
  {
   "cell_type": "code",
   "execution_count": 204,
   "metadata": {},
   "outputs": [
    {
     "data": {
      "text/html": [
       "<div>\n",
       "<style scoped>\n",
       "    .dataframe tbody tr th:only-of-type {\n",
       "        vertical-align: middle;\n",
       "    }\n",
       "\n",
       "    .dataframe tbody tr th {\n",
       "        vertical-align: top;\n",
       "    }\n",
       "\n",
       "    .dataframe thead th {\n",
       "        text-align: right;\n",
       "    }\n",
       "</style>\n",
       "<table border=\"1\" class=\"dataframe\">\n",
       "  <thead>\n",
       "    <tr style=\"text-align: right;\">\n",
       "      <th></th>\n",
       "      <th>6m</th>\n",
       "    </tr>\n",
       "    <tr>\n",
       "      <th>DATE</th>\n",
       "      <th></th>\n",
       "    </tr>\n",
       "  </thead>\n",
       "  <tbody>\n",
       "    <tr>\n",
       "      <th>2019-02-26</th>\n",
       "      <td>-0.58</td>\n",
       "    </tr>\n",
       "    <tr>\n",
       "      <th>2019-02-27</th>\n",
       "      <td>-0.57</td>\n",
       "    </tr>\n",
       "    <tr>\n",
       "      <th>2019-02-28</th>\n",
       "      <td>-0.57</td>\n",
       "    </tr>\n",
       "    <tr>\n",
       "      <th>2019-03-01</th>\n",
       "      <td>-0.56</td>\n",
       "    </tr>\n",
       "    <tr>\n",
       "      <th>2019-03-04</th>\n",
       "      <td>-0.54</td>\n",
       "    </tr>\n",
       "  </tbody>\n",
       "</table>\n",
       "</div>"
      ],
      "text/plain": [
       "              6m\n",
       "DATE            \n",
       "2019-02-26 -0.58\n",
       "2019-02-27 -0.57\n",
       "2019-02-28 -0.57\n",
       "2019-03-01 -0.56\n",
       "2019-03-04 -0.54"
      ]
     },
     "execution_count": 204,
     "metadata": {},
     "output_type": "execute_result"
    }
   ],
   "source": [
    "bunds6m.tail()"
   ]
  },
  {
   "cell_type": "code",
   "execution_count": 205,
   "metadata": {},
   "outputs": [
    {
     "data": {
      "text/html": [
       "<div>\n",
       "<style scoped>\n",
       "    .dataframe tbody tr th:only-of-type {\n",
       "        vertical-align: middle;\n",
       "    }\n",
       "\n",
       "    .dataframe tbody tr th {\n",
       "        vertical-align: top;\n",
       "    }\n",
       "\n",
       "    .dataframe thead th {\n",
       "        text-align: right;\n",
       "    }\n",
       "</style>\n",
       "<table border=\"1\" class=\"dataframe\">\n",
       "  <thead>\n",
       "    <tr style=\"text-align: right;\">\n",
       "      <th></th>\n",
       "      <th>1y</th>\n",
       "    </tr>\n",
       "    <tr>\n",
       "      <th>DATE</th>\n",
       "      <th></th>\n",
       "    </tr>\n",
       "  </thead>\n",
       "  <tbody>\n",
       "    <tr>\n",
       "      <th>2019-02-26</th>\n",
       "      <td>-0.58</td>\n",
       "    </tr>\n",
       "    <tr>\n",
       "      <th>2019-02-27</th>\n",
       "      <td>-0.57</td>\n",
       "    </tr>\n",
       "    <tr>\n",
       "      <th>2019-02-28</th>\n",
       "      <td>-0.57</td>\n",
       "    </tr>\n",
       "    <tr>\n",
       "      <th>2019-03-01</th>\n",
       "      <td>-0.56</td>\n",
       "    </tr>\n",
       "    <tr>\n",
       "      <th>2019-03-04</th>\n",
       "      <td>-0.55</td>\n",
       "    </tr>\n",
       "  </tbody>\n",
       "</table>\n",
       "</div>"
      ],
      "text/plain": [
       "              1y\n",
       "DATE            \n",
       "2019-02-26 -0.58\n",
       "2019-02-27 -0.57\n",
       "2019-02-28 -0.57\n",
       "2019-03-01 -0.56\n",
       "2019-03-04 -0.55"
      ]
     },
     "execution_count": 205,
     "metadata": {},
     "output_type": "execute_result"
    }
   ],
   "source": [
    "bunds1y.tail()"
   ]
  },
  {
   "cell_type": "code",
   "execution_count": 199,
   "metadata": {},
   "outputs": [
    {
     "data": {
      "text/html": [
       "<div>\n",
       "<style scoped>\n",
       "    .dataframe tbody tr th:only-of-type {\n",
       "        vertical-align: middle;\n",
       "    }\n",
       "\n",
       "    .dataframe tbody tr th {\n",
       "        vertical-align: top;\n",
       "    }\n",
       "\n",
       "    .dataframe thead th {\n",
       "        text-align: right;\n",
       "    }\n",
       "</style>\n",
       "<table border=\"1\" class=\"dataframe\">\n",
       "  <thead>\n",
       "    <tr style=\"text-align: right;\">\n",
       "      <th></th>\n",
       "      <th>1y</th>\n",
       "      <th>6m</th>\n",
       "    </tr>\n",
       "    <tr>\n",
       "      <th>DATE</th>\n",
       "      <th></th>\n",
       "      <th></th>\n",
       "    </tr>\n",
       "  </thead>\n",
       "  <tbody>\n",
       "    <tr>\n",
       "      <th>2019-02-26</th>\n",
       "      <td>-0.58</td>\n",
       "      <td>-0.58</td>\n",
       "    </tr>\n",
       "    <tr>\n",
       "      <th>2019-02-27</th>\n",
       "      <td>-0.57</td>\n",
       "      <td>-0.57</td>\n",
       "    </tr>\n",
       "    <tr>\n",
       "      <th>2019-02-28</th>\n",
       "      <td>-0.57</td>\n",
       "      <td>-0.57</td>\n",
       "    </tr>\n",
       "    <tr>\n",
       "      <th>2019-03-01</th>\n",
       "      <td>-0.56</td>\n",
       "      <td>-0.56</td>\n",
       "    </tr>\n",
       "    <tr>\n",
       "      <th>2019-03-04</th>\n",
       "      <td>-0.55</td>\n",
       "      <td>-0.54</td>\n",
       "    </tr>\n",
       "  </tbody>\n",
       "</table>\n",
       "</div>"
      ],
      "text/plain": [
       "              1y    6m\n",
       "DATE                  \n",
       "2019-02-26 -0.58 -0.58\n",
       "2019-02-27 -0.57 -0.57\n",
       "2019-02-28 -0.57 -0.57\n",
       "2019-03-01 -0.56 -0.56\n",
       "2019-03-04 -0.55 -0.54"
      ]
     },
     "execution_count": 199,
     "metadata": {},
     "output_type": "execute_result"
    }
   ],
   "source": [
    "bunds3.tail()"
   ]
  },
  {
   "cell_type": "code",
   "execution_count": null,
   "metadata": {},
   "outputs": [],
   "source": [
    "col_names =  ['A', 'B', 'C']\n",
    "my_df  = pd.DataFrame(columns = col_names)\n",
    "my_df\n",
    "If you want to add a record to the dataframe it would be better to use:\n",
    "\n",
    "my_df.loc[len(my_df)] = [2, 4, 5]\n",
    "You also might want to pass a dictionary:\n",
    "\n",
    "my_dic = {'A':2, 'B':4, 'C':5}\n",
    "my_df.loc[len(my_df)] = my_dic \n",
    "However if you want to add another dataframe to my_df do as follows:\n",
    "\n",
    "col_names =  ['A', 'B', 'C']\n",
    "my_df2  = pd.DataFrame(columns = col_names)\n",
    "my_df = my_df.append(my_df2)\n",
    "\n",
    "\n",
    "def clean(tenor, instruments, file_name):\n",
    "    col_names = tenor\n",
    "    bunds = pd.DataFrame(columns=col_names)\n",
    "    bunds = bunds.append(instruments[0])"
   ]
  },
  {
   "cell_type": "code",
   "execution_count": null,
   "metadata": {},
   "outputs": [],
   "source": []
  }
 ],
 "metadata": {
  "kernelspec": {
   "display_name": "Python 3",
   "language": "python",
   "name": "python3"
  },
  "language_info": {
   "codemirror_mode": {
    "name": "ipython",
    "version": 3
   },
   "file_extension": ".py",
   "mimetype": "text/x-python",
   "name": "python",
   "nbconvert_exporter": "python",
   "pygments_lexer": "ipython3",
   "version": "3.6.5"
  },
  "latex_envs": {
   "LaTeX_envs_menu_present": true,
   "autoclose": false,
   "autocomplete": true,
   "bibliofile": "biblio.bib",
   "cite_by": "apalike",
   "current_citInitial": 1,
   "eqLabelWithNumbers": true,
   "eqNumInitial": 1,
   "hotkeys": {
    "equation": "Ctrl-E",
    "itemize": "Ctrl-I"
   },
   "labels_anchors": false,
   "latex_user_defs": false,
   "report_style_numbering": false,
   "user_envs_cfg": false
  }
 },
 "nbformat": 4,
 "nbformat_minor": 2
}
